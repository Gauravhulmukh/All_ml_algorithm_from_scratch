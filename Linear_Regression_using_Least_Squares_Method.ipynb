{
  "nbformat": 4,
  "nbformat_minor": 0,
  "metadata": {
    "colab": {
      "name": "Linear Regression using Least Squares Method.ipynb",
      "provenance": []
    },
    "kernelspec": {
      "name": "python3",
      "display_name": "Python 3"
    }
  },
  "cells": [
    {
      "cell_type": "markdown",
      "metadata": {
        "id": "P7SGbOn_I-W1",
        "colab_type": "text"
      },
      "source": [
        "linear relationship between these two variables:\n",
        "\n",
        "$$ Y = β0 + β1X$$\n",
        "\n",
        "This equation is similar to the line equation **y = mx + c** with m=β (Slope) and c=β (Intercept).\n",
        "\n",
        "![Linear Regression Formula](https://github.com/Gauravhulmukh/programming-foundation-with-python-from-udacity/blob/master/Linear%20regression%20formula.PNG?raw=true)\n",
        "\n",
        "\n",
        "\n",
        "\n"
      ]
    },
    {
      "cell_type": "markdown",
      "metadata": {
        "id": "XkYK-xFEIuHA",
        "colab_type": "text"
      },
      "source": [
        "**Implemention of Linear Model** \n"
      ]
    },
    {
      "cell_type": "code",
      "metadata": {
        "id": "dhkaoGprMxuI",
        "colab_type": "code",
        "colab": {}
      },
      "source": [
        "# Making imports\n",
        "import numpy as np\n",
        "import pandas as pd\n",
        "import matplotlib.pyplot as plt\n",
        "%matplotlib inline\n",
        "plt.rcParams['figure.figsize'] = (12.0, 9.0)"
      ],
      "execution_count": 0,
      "outputs": []
    },
    {
      "cell_type": "code",
      "metadata": {
        "id": "p29M1oKXNHzC",
        "colab_type": "code",
        "outputId": "83dacb99-364a-4cfa-f4f8-846de249aa30",
        "colab": {
          "base_uri": "https://localhost:8080/",
          "height": 204
        }
      },
      "source": [
        "# Preprocessing Input data\n",
        "data =pd.read_csv('headbrain.csv')\n",
        "data.head()"
      ],
      "execution_count": 3,
      "outputs": [
        {
          "output_type": "execute_result",
          "data": {
            "text/html": [
              "<div>\n",
              "<style scoped>\n",
              "    .dataframe tbody tr th:only-of-type {\n",
              "        vertical-align: middle;\n",
              "    }\n",
              "\n",
              "    .dataframe tbody tr th {\n",
              "        vertical-align: top;\n",
              "    }\n",
              "\n",
              "    .dataframe thead th {\n",
              "        text-align: right;\n",
              "    }\n",
              "</style>\n",
              "<table border=\"1\" class=\"dataframe\">\n",
              "  <thead>\n",
              "    <tr style=\"text-align: right;\">\n",
              "      <th></th>\n",
              "      <th>Gender</th>\n",
              "      <th>Age Range</th>\n",
              "      <th>Head Size(cm^3)</th>\n",
              "      <th>Brain Weight(grams)</th>\n",
              "    </tr>\n",
              "  </thead>\n",
              "  <tbody>\n",
              "    <tr>\n",
              "      <th>0</th>\n",
              "      <td>1</td>\n",
              "      <td>1</td>\n",
              "      <td>4512</td>\n",
              "      <td>1530</td>\n",
              "    </tr>\n",
              "    <tr>\n",
              "      <th>1</th>\n",
              "      <td>1</td>\n",
              "      <td>1</td>\n",
              "      <td>3738</td>\n",
              "      <td>1297</td>\n",
              "    </tr>\n",
              "    <tr>\n",
              "      <th>2</th>\n",
              "      <td>1</td>\n",
              "      <td>1</td>\n",
              "      <td>4261</td>\n",
              "      <td>1335</td>\n",
              "    </tr>\n",
              "    <tr>\n",
              "      <th>3</th>\n",
              "      <td>1</td>\n",
              "      <td>1</td>\n",
              "      <td>3777</td>\n",
              "      <td>1282</td>\n",
              "    </tr>\n",
              "    <tr>\n",
              "      <th>4</th>\n",
              "      <td>1</td>\n",
              "      <td>1</td>\n",
              "      <td>4177</td>\n",
              "      <td>1590</td>\n",
              "    </tr>\n",
              "  </tbody>\n",
              "</table>\n",
              "</div>"
            ],
            "text/plain": [
              "   Gender  Age Range  Head Size(cm^3)  Brain Weight(grams)\n",
              "0       1          1             4512                 1530\n",
              "1       1          1             3738                 1297\n",
              "2       1          1             4261                 1335\n",
              "3       1          1             3777                 1282\n",
              "4       1          1             4177                 1590"
            ]
          },
          "metadata": {
            "tags": []
          },
          "execution_count": 3
        }
      ]
    },
    {
      "cell_type": "code",
      "metadata": {
        "id": "bc-LyWofNpkn",
        "colab_type": "code",
        "colab": {}
      },
      "source": [
        "X= data['Head Size(cm^3)'].values\n",
        "Y = data['Brain Weight(grams)'].values\n",
        "meanx = np.mean(X)\n",
        "meany = np.mean(Y)"
      ],
      "execution_count": 0,
      "outputs": []
    },
    {
      "cell_type": "code",
      "metadata": {
        "id": "HzwdwZKxNxDB",
        "colab_type": "code",
        "outputId": "95573a76-3914-497c-802d-53b2518f80da",
        "colab": {
          "base_uri": "https://localhost:8080/",
          "height": 34
        }
      },
      "source": [
        "m = len(X)\n",
        "numer =0\n",
        "denom =0\n",
        "for i in range(m):\n",
        "  numer += (X[i]-meanx)*(Y[i]-meany)\n",
        "  denom += (X[i]-meanx)**2\n",
        "b1 = numer/denom\n",
        "b0 = meany - b1*meanx\n",
        "print(b0,b1)"
      ],
      "execution_count": 5,
      "outputs": [
        {
          "output_type": "stream",
          "text": [
            "325.57342104944223 0.26342933948939945\n"
          ],
          "name": "stdout"
        }
      ]
    },
    {
      "cell_type": "code",
      "metadata": {
        "id": "lpKRlYlRRGjJ",
        "colab_type": "code",
        "outputId": "32391b03-efd8-41e4-83b7-762daa3694de",
        "colab": {
          "base_uri": "https://localhost:8080/",
          "height": 554
        }
      },
      "source": [
        "max_x = np.max(X) + 100\n",
        "min_x = np.min(X) - 100\n",
        "rx = np.linspace(min_x, max_x, 1000)\n",
        "ry = b0+(b1*rx)\n",
        "plt.plot(rx, ry, color='#58b970', label='Regression Line')\n",
        "plt.scatter(X, Y, c='#ef5423', label='Scatter Plot')"
      ],
      "execution_count": 6,
      "outputs": [
        {
          "output_type": "execute_result",
          "data": {
            "text/plain": [
              "<matplotlib.collections.PathCollection at 0x7fcd70d0b470>"
            ]
          },
          "metadata": {
            "tags": []
          },
          "execution_count": 6
        },
        {
          "output_type": "display_data",
          "data": {
            "image/png": "[encoded data removed]",
            "text/plain": [
              "<Figure size 864x648 with 1 Axes>"
            ]
          },
          "metadata": {
            "tags": []
          }
        }
      ]
    }
  ]
}