{
  "nbformat": 4,
  "nbformat_minor": 0,
  "metadata": {
    "colab": {
      "name": "Multiple Linear Regression using Gradient Descent with Scikit.ipynb",
      "provenance": [],
      "authorship_tag": "ABX9TyM/lBRgXhi0Sybtge0jljyC",
      "include_colab_link": true
    },
    "kernelspec": {
      "name": "python3",
      "display_name": "Python 3"
    }
  },
  "cells": [
    {
      "cell_type": "markdown",
      "metadata": {
        "id": "view-in-github",
        "colab_type": "text"
      },
      "source": [
        "<a href=\"https://colab.research.google.com/github/Gauravhulmukh/All_ml_algorithm_from_scratch/blob/master/Linear%20Regression/Multiple_Linear_Regression_using_Gradient_Descent_with_Scikit.ipynb\" target=\"_parent\"><img src=\"https://colab.research.google.com/assets/colab-badge.svg\" alt=\"Open In Colab\"/></a>"
      ]
    },
    {
      "cell_type": "markdown",
      "metadata": {
        "id": "4fm6ILsnSG4v",
        "colab_type": "text"
      },
      "source": [
        "**Multiple Linear Regression using Gradient Descent with Scikit**\n",
        "**Algorithm :**<br>\n",
        "1.   Prepare Data\n",
        "2.   Import linear model and metrics\n",
        "3.   Initialize Model/function of model\n",
        "4.   Fit parameter x,y\n",
        "5.   Predict value wrt to training and testing set\n",
        "6.   Find MSE,RMSE,R2_Score\n"
      ]
    },
    {
      "cell_type": "code",
      "metadata": {
        "id": "F0nj1lk5N1Fx",
        "colab_type": "code",
        "colab": {}
      },
      "source": [
        "#prepare data and import\n",
        "import numpy as np\n",
        "import pandas as pd\n",
        "import matplotlib.pyplot as plt\n",
        "%matplotlib inline\n",
        "\n",
        "train_data = pd.read_csv('train_dataset.csv')\n",
        "test_data = pd.read_csv('test_dataset.csv')\n",
        "x = train_data[['a','b']]\n",
        "y = train_data['y']\n",
        "x_test = test_data[['a','b']]\n",
        "y_test = test_data['y']"
      ],
      "execution_count": 0,
      "outputs": []
    },
    {
      "cell_type": "code",
      "metadata": {
        "id": "4BV8MGxAPrqw",
        "colab_type": "code",
        "colab": {
          "base_uri": "https://localhost:8080/",
          "height": 34
        },
        "outputId": "8406f272-fec2-42d1-ee86-979caf9f1aa7"
      },
      "source": [
        "from sklearn.linear_model import LinearRegression\n",
        "from  sklearn.metrics import mean_squared_error\n",
        "lr = LinearRegression()\n",
        "lr.fit(x,y)"
      ],
      "execution_count": 3,
      "outputs": [
        {
          "output_type": "execute_result",
          "data": {
            "text/plain": [
              "LinearRegression(copy_X=True, fit_intercept=True, n_jobs=None, normalize=False)"
            ]
          },
          "metadata": {
            "tags": []
          },
          "execution_count": 3
        }
      ]
    },
    {
      "cell_type": "code",
      "metadata": {
        "id": "V7IA5vb1P_br",
        "colab_type": "code",
        "colab": {
          "base_uri": "https://localhost:8080/",
          "height": 68
        },
        "outputId": "8a75bb15-2505-4563-cb21-fa79de142b05"
      },
      "source": [
        "#Training set evaluation\n",
        "print(\"Training Set Evaluation:\")\n",
        "y_pred_train = lr.predict(x)\n",
        "train_mse = mean_squared_error(y, y_pred_train)\n",
        "train_rmse = np.sqrt(train_mse)\n",
        "train_r2score = lr.score(x,y)\n",
        "print(f\"RMSE {train_rmse}\")\n",
        "print(f\"R2_Score {train_r2score}\")"
      ],
      "execution_count": 5,
      "outputs": [
        {
          "output_type": "stream",
          "text": [
            "Training Set Evaluation:\n",
            "RMSE 21.619903616801384\n",
            "R2_Score 0.9544941704644818\n"
          ],
          "name": "stdout"
        }
      ]
    },
    {
      "cell_type": "code",
      "metadata": {
        "id": "wNCMuHnWQLkj",
        "colab_type": "code",
        "colab": {
          "base_uri": "https://localhost:8080/",
          "height": 68
        },
        "outputId": "1a0ba781-e37b-4626-c2d0-a42bcaf49d8d"
      },
      "source": [
        "#Testing set evaluation\n",
        "print(\"Testing set Evaluation:\")\n",
        "y_pred_test = lr.predict(x_test)\n",
        "test_mse = mean_squared_error(y_test, y_pred_test)\n",
        "test_rmse = np.sqrt(test_mse)\n",
        "test_r2score = lr.score(x_test,y_test)\n",
        "print(f\"RMSE {test_rmse}\")\n",
        "print(f\"R2_Score {test_r2score}\")"
      ],
      "execution_count": 6,
      "outputs": [
        {
          "output_type": "stream",
          "text": [
            "Testing set Evaluation:\n",
            "RMSE 22.596506277050914\n",
            "R2_Score 0.9548221213865843\n"
          ],
          "name": "stdout"
        }
      ]
    }
  ]
}