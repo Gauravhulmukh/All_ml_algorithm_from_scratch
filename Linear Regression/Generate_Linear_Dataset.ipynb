{
  "nbformat": 4,
  "nbformat_minor": 0,
  "metadata": {
    "colab": {
      "name": "Generate Linear Dataset.ipynb",
      "provenance": []
    },
    "kernelspec": {
      "name": "python3",
      "display_name": "Python 3"
    }
  },
  "cells": [
    {
      "cell_type": "code",
      "metadata": {
        "id": "RdqIzKAR4gGZ",
        "colab_type": "code",
        "colab": {}
      },
      "source": [
        "import numpy as np\n",
        "import pandas as pd\n",
        "import matplotlib.pyplot as plt\n",
        "from sklearn.datasets import make_regression\n",
        "from sklearn.model_selection import train_test_split"
      ],
      "execution_count": 0,
      "outputs": []
    },
    {
      "cell_type": "code",
      "metadata": {
        "id": "wKQL-vgr7PHB",
        "colab_type": "code",
        "colab": {}
      },
      "source": [
        "X, y= make_regression(n_samples=300, n_features=2, noise=20, bias=5)"
      ],
      "execution_count": 0,
      "outputs": []
    },
    {
      "cell_type": "code",
      "metadata": {
        "id": "K3UnzGCvNPBG",
        "colab_type": "code",
        "colab": {}
      },
      "source": [
        "data = pd.DataFrame(np.column_stack((X, y)), columns=['a', 'b', 'y'])"
      ],
      "execution_count": 0,
      "outputs": []
    },
    {
      "cell_type": "code",
      "metadata": {
        "id": "59n5bquNNRPm",
        "colab_type": "code",
        "colab": {}
      },
      "source": [
        "train_dataset, test_dataset = train_test_split(data, test_size=0.2, shuffle=True)\n",
        "train_dataset.to_csv('train_dataset.csv',index=False)\n",
        "test_dataset.to_csv('test_dataset.csv',index=False)"
      ],
      "execution_count": 0,
      "outputs": []
    }
  ]
}