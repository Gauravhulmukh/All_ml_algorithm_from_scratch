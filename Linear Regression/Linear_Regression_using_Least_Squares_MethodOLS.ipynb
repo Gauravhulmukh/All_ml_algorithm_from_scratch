{
  "nbformat": 4,
  "nbformat_minor": 0,
  "metadata": {
    "colab": {
      "name": "Linear Regression using Least Squares MethodOLS.ipynb",
      "provenance": [],
      "collapsed_sections": [],
      "authorship_tag": "ABX9TyMU8Aha4ANU6MJgo1oF+unC"
    },
    "kernelspec": {
      "name": "python3",
      "display_name": "Python 3"
    }
  },
  "cells": [
    {
      "cell_type": "code",
      "metadata": {
        "id": "5Kv3Ziq5JGRG",
        "colab_type": "code",
        "colab": {}
      },
      "source": [
        "import numpy as np\n",
        "import pandas as pd\n",
        "import matplotlib.pyplot as plt\n",
        "%matplotlib inline"
      ],
      "execution_count": 0,
      "outputs": []
    },
    {
      "cell_type": "code",
      "metadata": {
        "id": "8_nxhae3JiB-",
        "colab_type": "code",
        "colab": {}
      },
      "source": [
        "train_data = pd.read_csv('train_dataset.csv')\n",
        "test_data = pd.read_csv('test_dataset.csv')"
      ],
      "execution_count": 0,
      "outputs": []
    },
    {
      "cell_type": "code",
      "metadata": {
        "id": "i2MBcyI4Kab6",
        "colab_type": "code",
        "colab": {}
      },
      "source": [
        "train_data = train_data[['a','y']]\n",
        "test_data = test_data[['a','y']]"
      ],
      "execution_count": 0,
      "outputs": []
    },
    {
      "cell_type": "code",
      "metadata": {
        "id": "X2tsJhKvK9cy",
        "colab_type": "code",
        "colab": {}
      },
      "source": [
        "#Hypothesis Structure Y = b0 + b1*X\n",
        "def hypothesis(b0,b1,x):\n",
        "  return b0 + (b1 * x)"
      ],
      "execution_count": 0,
      "outputs": []
    },
    {
      "cell_type": "code",
      "metadata": {
        "id": "IW60OSyGM-YE",
        "colab_type": "code",
        "colab": {}
      },
      "source": [
        "#Compute best parameter using OLS like B0 and B1\n",
        "def find_best(x,y):\n",
        "  m = len(x) \n",
        "  numer= 0\n",
        "  denom= 0\n",
        "  mean_x = np.mean(x)\n",
        "  mean_y = np.mean(y)\n",
        "  for i in range(m):\n",
        "    numer += (x[i]-mean_x) * (y[i]-mean_y)\n",
        "    denom += (x[i]-mean_x) ** 2 \n",
        "  b1 = numer/denom\n",
        "  b0 = mean_y - (b1 * mean_x)\n",
        "  return b0 ,b1 "
      ],
      "execution_count": 0,
      "outputs": []
    },
    {
      "cell_type": "code",
      "metadata": {
        "id": "uMi5-cL8QLQl",
        "colab_type": "code",
        "colab": {}
      },
      "source": [
        "def plot_line(b0, b1, x, y):\n",
        "    max_x = np.max(x)\n",
        "    min_x = np.min(x)\n",
        "    # Compute line interpolation points\n",
        "    xplot = np.linspace(min_x, max_x, 1000)\n",
        "    yplot = b0 + b1 * xplot\n",
        "    # Plot fitted line and points\n",
        "    plt.plot(xplot, yplot, color='#58b970', label='Regression Line')\n",
        "    plt.scatter(x,y, c='#ef5423', label='Scatter Plot')\n",
        "    # Plot info\n",
        "    plt.xlabel('a')\n",
        "    plt.ylabel('y')\n",
        "    plt.legend()\n",
        "    plt.show()"
      ],
      "execution_count": 0,
      "outputs": []
    },
    {
      "cell_type": "code",
      "metadata": {
        "id": "SvbY5t8kRiKj",
        "colab_type": "code",
        "colab": {}
      },
      "source": [
        "x = train_data['a'].values\n",
        "y = train_data['y'].values"
      ],
      "execution_count": 0,
      "outputs": []
    },
    {
      "cell_type": "code",
      "metadata": {
        "id": "WUfuaBZ_RrP3",
        "colab_type": "code",
        "colab": {}
      },
      "source": [
        "b0 ,b1 = find_best(x,y)"
      ],
      "execution_count": 0,
      "outputs": []
    },
    {
      "cell_type": "code",
      "metadata": {
        "id": "Ix4y_0pDST-f",
        "colab_type": "code",
        "colab": {
          "base_uri": "https://localhost:8080/",
          "height": 279
        },
        "outputId": "f8a266ad-d360-4c34-cfad-caf48861d15c"
      },
      "source": [
        "plot_line(b0,b1,x,y)"
      ],
      "execution_count": 45,
      "outputs": [
        {
          "output_type": "display_data",
          "data": {
            "image/png": "[encoded data removed]",
            "text/plain": [
              "<Figure size 432x288 with 1 Axes>"
            ]
          },
          "metadata": {
            "tags": []
          }
        }
      ]
    },
    {
      "cell_type": "code",
      "metadata": {
        "id": "JCldou2xSjv6",
        "colab_type": "code",
        "colab": {}
      },
      "source": [
        "#RMSE\n",
        "def rmse(y,y_pred):\n",
        "  rmse = np.sqrt(np.sum((y_pred - y)**2) / len(y))\n",
        "  return rmse"
      ],
      "execution_count": 0,
      "outputs": []
    },
    {
      "cell_type": "code",
      "metadata": {
        "id": "V5q6eR1wG_H7",
        "colab_type": "code",
        "colab": {}
      },
      "source": [
        "# R2 Score\n",
        "# How much(%) of the total variation in y is explained by variation in x(fitted line)\n",
        "def r2score(y,y_pred):\n",
        "  mean_y = np.mean(y)\n",
        "  SE_total_variation = np.sum((y - mean_y)**2) # Unexplained max possible variation in y wrt->Mean\n",
        "  SE_line_variation = np.sum((y - y_pred)**2) # Unexplained variation in y wrt -> fitted line\n",
        "  r2 = 1 - (SE_line_variation / SE_total_variation) # Expalined = 1 - Unexplained\n",
        "  return r2"
      ],
      "execution_count": 0,
      "outputs": []
    },
    {
      "cell_type": "code",
      "metadata": {
        "id": "raTirnyANv5P",
        "colab_type": "code",
        "colab": {}
      },
      "source": [
        "y_pred = hypothesis(b0, b1, x)"
      ],
      "execution_count": 0,
      "outputs": []
    },
    {
      "cell_type": "code",
      "metadata": {
        "id": "dRxXI6aZNvt_",
        "colab_type": "code",
        "colab": {
          "base_uri": "https://localhost:8080/",
          "height": 51
        },
        "outputId": "de66c352-df86-43d1-f056-a5bc0a5023b7"
      },
      "source": [
        "print(f\"RMSE = {rmse(y, y_pred)}\")\n",
        "print(f\"R2_score = {r2score(y, y_pred)}\")"
      ],
      "execution_count": 52,
      "outputs": [
        {
          "output_type": "stream",
          "text": [
            "RMSE = 63.085834608693574\n",
            "R2_score = 0.6125432469546614\n"
          ],
          "name": "stdout"
        }
      ]
    },
    {
      "cell_type": "code",
      "metadata": {
        "id": "pNpVYcYFOCGl",
        "colab_type": "code",
        "colab": {
          "base_uri": "https://localhost:8080/",
          "height": 51
        },
        "outputId": "35789090-854f-4197-fe9f-2154e7fdde1a"
      },
      "source": [
        "y_pred_test = hypothesis(b0, b1, test_data['a'].values)\n",
        "\n",
        "print(f\"RMSE = {rmse(test_data['y'].values, y_pred_test)}\")\n",
        "print(f\"R2_score = {r2score(test_data['y'].values, y_pred_test)}\")"
      ],
      "execution_count": 55,
      "outputs": [
        {
          "output_type": "stream",
          "text": [
            "RMSE = 61.29128502384794\n",
            "R2_score = 0.6676155525164718\n"
          ],
          "name": "stdout"
        }
      ]
    },
    {
      "cell_type": "code",
      "metadata": {
        "id": "zirvQ7lXOYZr",
        "colab_type": "code",
        "colab": {}
      },
      "source": [
        ""
      ],
      "execution_count": 0,
      "outputs": []
    }
  ]
}