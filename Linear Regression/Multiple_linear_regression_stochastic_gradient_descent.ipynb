{
  "nbformat": 4,
  "nbformat_minor": 0,
  "metadata": {
    "colab": {
      "name": "Multiple_linear_regression_stochastic_gradient_descent.ipynb",
      "provenance": [],
      "authorship_tag": "ABX9TyO6Mgh9fjMOGwl+2F5wQAcd",
      "include_colab_link": true
    },
    "kernelspec": {
      "name": "python3",
      "display_name": "Python 3"
    }
  },
  "cells": [
    {
      "cell_type": "markdown",
      "metadata": {
        "id": "view-in-github",
        "colab_type": "text"
      },
      "source": [
        "<a href=\"https://colab.research.google.com/github/Gauravhulmukh/All_ml_algorithm_from_scratch/blob/master/Linear%20Regression/Multiple_linear_regression_stochastic_gradient_descent.ipynb\" target=\"_parent\"><img src=\"https://colab.research.google.com/assets/colab-badge.svg\" alt=\"Open In Colab\"/></a>"
      ]
    },
    {
      "cell_type": "markdown",
      "metadata": {
        "id": "d2evcxL6O9wr",
        "colab_type": "text"
      },
      "source": [
        "**Multiple Linear Regression Stochastic Gradient Descent**<br>\n",
        "\n",
        "For a quick simple explanation:\n",
        "\n",
        "In both gradient descent (GD) and stochastic gradient descent (SGD), you update a set of parameters in an iterative manner to minimize an error function.\n",
        "\n",
        "While in GD, you have to run through ALL the samples in your training set to do a single update for a parameter in a particular iteration, in SGD, on the other hand, you use ONLY ONE or SUBSET of training sample from your training set to do the update for a parameter in a particular iteration. If you use SUBSET, it is called Minibatch Stochastic gradient Descent.\n",
        "\n",
        "Thus, if the number of training samples are large, in fact very large, then using gradient descent may take too long because in every iteration when you are updating the values of the parameters, you are running through the complete training set. On the other hand, using SGD will be faster because you use only one training sample and it starts improving itself right away from the first sample.\n",
        "\n",
        "SGD often converges much faster compared to GD but the error function is not as well minimized as in the case of GD. Often in most cases, the close approximation that you get in SGD for the parameter values are enough because they reach the optimal values and keep oscillating there.\n",
        "\n",
        "Zip Function = Used to combine two list.\n",
        "Enumerate function = used to indexing the list.\n",
        "Things need to be Remember:\n",
        "1. Shuffle the training examples\n",
        "2. Calculate Batch cost \n",
        "3. Avg. of batch cost will be get stored in Cost_history(array)"
      ]
    },
    {
      "cell_type": "code",
      "metadata": {
        "id": "Lf-cjZx3RqqI",
        "colab_type": "code",
        "colab": {}
      },
      "source": [
        "import numpy as np\n",
        "import pandas as pd\n",
        "import matplotlib.pyplot as plt\n",
        "%matplotlib inline\n",
        "\n",
        "train_data = pd.read_csv('train_dataset.csv')\n",
        "test_data = pd.read_csv('test_dataset.csv')\n",
        "x = train_data[['a','b']].values\n",
        "y = train_data['y'].values\n",
        "x_test = test_data[['a','b']].values\n",
        "y_test = test_data['y'].values"
      ],
      "execution_count": 0,
      "outputs": []
    },
    {
      "cell_type": "code",
      "metadata": {
        "id": "-_5TSRMpqC4X",
        "colab_type": "code",
        "colab": {}
      },
      "source": [
        "# Hypothesis structure(Linear Representation) y = theta0 + (theta1*x)\n",
        "def hypothesis(theta_coeff, x):\n",
        "    \"\"\"\n",
        "    theta_coeff(array): coefficients of function (1 x num_of_coeff)\n",
        "    x: input data/variable (num_of_samples x 1)\n",
        "    \n",
        "    Returns:\n",
        "    Predicted value for each example-row in inputs (1 x num_of_inputs)\n",
        "    \"\"\"\n",
        "    return x.dot(theta_coeff)\n",
        "\n",
        "def cost_function_mse(theta_coeff, x, y):\n",
        "    \"\"\"\n",
        "    theta_coeff(array): coefficients of function (1 x num_of_coeff)\n",
        "    x: input data/variable (num_of_samples x 1)\n",
        "    y: output data/variable (num_of_samples x 1)\n",
        "    \n",
        "    Returns:\n",
        "    Computes cost of using theta_coeff as coefficients for Linear Representation wrt to training data\n",
        "    \"\"\"\n",
        "    predicted_y = hypothesis(theta_coeff, x)\n",
        "    return np.sum((predicted_y - y)**2) / (2*x.shape[0])\n",
        "\n",
        "def compute_gradient(theta_coeff, x, y):\n",
        "    \"\"\"\n",
        "    theta_coeff(array): coefficients of function (1 x num_of_coeff)\n",
        "    x: input data/variable (num_of_samples x 1)\n",
        "    y: output data/variable (num_of_samples x 1)\n",
        "    \n",
        "    Returns:\n",
        "    Array of computed gradients for each of the coefficients (1 x num_of_coefficients)\n",
        "    \"\"\"\n",
        "    predicted_y = hypothesis(theta_coeff, x)\n",
        "    # coeff_gradients = np.sum(((predicted_y - y)**2) * x.T, axis=1) / (x.shape[0])\n",
        "    coeff_gradients = np.sum((predicted_y - y) * x.T, axis=1) / (x.shape[0])\n",
        "    return coeff_gradients"
      ],
      "execution_count": 0,
      "outputs": []
    },
    {
      "cell_type": "code",
      "metadata": {
        "id": "6-WMQIHewfeq",
        "colab_type": "code",
        "colab": {}
      },
      "source": [
        "def stochastic_gradient_descent(x,y,iterations,learning_rate,batch_size):\n",
        "  '''\n",
        "  x : Input data/variables (num_of_samples X 1)\n",
        "  y : Output data/variables (num_of_samples X 1)\n",
        "  iterations(int) : Number_of_iterations/epochs\n",
        "  learning_rate(int) : Alpha / learning rate which controls the descent\n",
        "\n",
        "  Return:\n",
        "  theta_coeff(array) : Best set of coefficients for the linear model(1 X num_of_coefficient)\n",
        "  cost_history(array) : Cost history wrt coefficients computed while performing the Descent.\n",
        "  '''\n",
        "  cost_history = []\n",
        "  theta_coeff = np.array([0] * x.shape[1])\n",
        "  #shuffle the training examples\n",
        "  #shuffles ensure that each data point create independent change on the model, without being biased by the same points before them\n",
        "  #shuffling mini-batchs make the gradients more variable, which can help convergence because it increases the likelihood of hitting a good direction\"\n",
        "  shuffled_indices = np.arange(x.shape[0])\n",
        "  np.random.shuffle(shuffled_indices)\n",
        "  x = x[shuffled_indices]\n",
        "  y = y[shuffled_indices]\n",
        "  for iteration in range(iterations):\n",
        "        batch_cost = []\n",
        "        for training_example_idx, (training_example_x, training_example_y) in enumerate(zip(x,y)):\n",
        "            # Predict -> compute cost -> compute gradient ... wrt to each example\n",
        "            example_x = training_example_x.reshape([-1, x.shape[1]])\n",
        "            coeff_gradients = compute_gradient(theta_coeff,example_x,training_example_y)\n",
        "            # Alter old theta_coeff using movement suggested by new coeff_gradients\n",
        "            theta_coeff = theta_coeff - (learning_rate * coeff_gradients)\n",
        "            # Compute the cost using theta_coeff as coefficients of linear function\n",
        "            cost = cost_function_mse(theta_coeff, x, y)\n",
        "            batch_cost.append(cost)\n",
        "            # Append the cost to cost_history by averaging the accumulated costs in batch_cost_container\n",
        "            if len(batch_cost) % batch_size == 0:\n",
        "                cost_history.append(np.mean(batch_cost))\n",
        "                batch_cost = []\n",
        "  return theta_coeff, cost_history"
      ],
      "execution_count": 0,
      "outputs": []
    },
    {
      "cell_type": "code",
      "metadata": {
        "id": "oLipvYl4onOy",
        "colab_type": "code",
        "colab": {}
      },
      "source": [
        "## Prepare data\n",
        "# Learning rate\n",
        "alpha = 0.0001\n",
        "# Bias variable \n",
        "bias_variable = np.ones(len(x))\n",
        "# Plug input along with bias_variable\n",
        "x_train = np.column_stack([bias_variable, x])"
      ],
      "execution_count": 0,
      "outputs": []
    },
    {
      "cell_type": "code",
      "metadata": {
        "id": "1WbB8NvQqfBX",
        "colab_type": "code",
        "colab": {}
      },
      "source": [
        "best_theta_coeff, cost_history = stochastic_gradient_descent(x_train, y, 150, alpha, 10)"
      ],
      "execution_count": 0,
      "outputs": []
    },
    {
      "cell_type": "code",
      "metadata": {
        "id": "-7CPG3PJq22j",
        "colab_type": "code",
        "colab": {
          "base_uri": "https://localhost:8080/",
          "height": 34
        },
        "outputId": "91f4522d-ab0c-4c69-dc07-adbfcd567dbc"
      },
      "source": [
        "cost_history[-1]"
      ],
      "execution_count": 16,
      "outputs": [
        {
          "output_type": "execute_result",
          "data": {
            "text/plain": [
              "235.52104007912084"
            ]
          },
          "metadata": {
            "tags": []
          },
          "execution_count": 16
        }
      ]
    },
    {
      "cell_type": "code",
      "metadata": {
        "id": "ixQuHie_rAJ3",
        "colab_type": "code",
        "colab": {
          "base_uri": "https://localhost:8080/",
          "height": 282
        },
        "outputId": "4b97e481-098d-49aa-f0d3-0c1bb99e9ed7"
      },
      "source": [
        "plt.plot(cost_history)"
      ],
      "execution_count": 17,
      "outputs": [
        {
          "output_type": "execute_result",
          "data": {
            "text/plain": [
              "[<matplotlib.lines.Line2D at 0x7f837fc7cac8>]"
            ]
          },
          "metadata": {
            "tags": []
          },
          "execution_count": 17
        },
        {
          "output_type": "display_data",
          "data": {
            "image/png": "[encoded data removed]",
            "text/plain": [
              "<Figure size 432x288 with 1 Axes>"
            ]
          },
          "metadata": {
            "tags": [],
            "needs_background": "light"
          }
        }
      ]
    },
    {
      "cell_type": "code",
      "metadata": {
        "id": "52V0TgwxrClY",
        "colab_type": "code",
        "colab": {}
      },
      "source": [
        "def get_predictions(theta_coeff, x_input):\n",
        "    # Bias variable \n",
        "    bias_variable = np.ones(len(x_input))\n",
        "    # Plug input along with bias_variable\n",
        "    new_x_input = np.column_stack([bias_variable, x_input])\n",
        "    # Compute output values with new coefficients\n",
        "    preds = hypothesis(theta_coeff, new_x_input)\n",
        "    return preds"
      ],
      "execution_count": 0,
      "outputs": []
    },
    {
      "cell_type": "code",
      "metadata": {
        "id": "NfeBYKaMrKPx",
        "colab_type": "code",
        "colab": {}
      },
      "source": [
        "# RMSE\n",
        "def rmse(y, y_pred):\n",
        "    rmse = np.sqrt(np.sum((y - y_pred)**2) / len(y))\n",
        "    return rmse"
      ],
      "execution_count": 0,
      "outputs": []
    },
    {
      "cell_type": "code",
      "metadata": {
        "id": "PdisBCd0rMxf",
        "colab_type": "code",
        "colab": {}
      },
      "source": [
        "#R2 Score\n",
        "# How much(%) of the total variation in y is explained by variation in x(fitted line)\n",
        "def r2_score(y, y_pred):  \n",
        "    mean_y = np.mean(y)\n",
        "    SE_total_variation = np.sum((y - mean_y)**2) # Unexplained max possible variation in y wrt->Mean\n",
        "    SE_line_variation = np.sum((y - y_pred)**2) # Unexplained variation in y wrt -> fitted line\n",
        "    r2 = 1 - (SE_line_variation / SE_total_variation) # Expalined = 1 - Unexplained\n",
        "    return r2"
      ],
      "execution_count": 0,
      "outputs": []
    },
    {
      "cell_type": "code",
      "metadata": {
        "id": "nrhv7h06rUld",
        "colab_type": "code",
        "colab": {}
      },
      "source": [
        "y_pred_train = get_predictions(best_theta_coeff, x)#Training\n",
        "y_pred_test = get_predictions(best_theta_coeff, x_test)#Testing"
      ],
      "execution_count": 0,
      "outputs": []
    },
    {
      "cell_type": "code",
      "metadata": {
        "id": "ojRBnaOpriuR",
        "colab_type": "code",
        "colab": {
          "base_uri": "https://localhost:8080/",
          "height": 68
        },
        "outputId": "a880fbf5-b265-4491-85d0-dfc0cec0edfb"
      },
      "source": [
        "print(\"Training set evaluation\")\n",
        "print(f\"RMSE = {rmse(y, y_pred_train)}\")\n",
        "print(f\"R2_score = {r2_score(y, y_pred_train)}\")"
      ],
      "execution_count": 23,
      "outputs": [
        {
          "output_type": "stream",
          "text": [
            "Training set evaluation\n",
            "RMSE = 21.703504248650074\n",
            "R2_score = 0.9541415628392439\n"
          ],
          "name": "stdout"
        }
      ]
    },
    {
      "cell_type": "code",
      "metadata": {
        "id": "roCu-wR_rpUK",
        "colab_type": "code",
        "colab": {
          "base_uri": "https://localhost:8080/",
          "height": 68
        },
        "outputId": "d210b573-69b8-496f-e8c6-65deb170b8dc"
      },
      "source": [
        "print(\"Testing set evaluation\")\n",
        "print(f\"RMSE = {rmse(test_data['y'].values, y_pred_test)}\")\n",
        "print(f\"R2_score = {r2_score(test_data['y'].values, y_pred_test)}\")"
      ],
      "execution_count": 26,
      "outputs": [
        {
          "output_type": "stream",
          "text": [
            "Testing set evaluation\n",
            "RMSE = 22.883321194027097\n",
            "R2_score = 0.9536679673246458\n"
          ],
          "name": "stdout"
        }
      ]
    },
    {
      "cell_type": "code",
      "metadata": {
        "id": "KDSWRzOGtJfO",
        "colab_type": "code",
        "colab": {}
      },
      "source": [
        ""
      ],
      "execution_count": 0,
      "outputs": []
    }
  ]
}