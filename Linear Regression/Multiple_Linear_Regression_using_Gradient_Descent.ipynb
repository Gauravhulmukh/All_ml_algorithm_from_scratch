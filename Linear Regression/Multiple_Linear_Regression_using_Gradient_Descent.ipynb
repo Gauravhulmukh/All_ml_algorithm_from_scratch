{
  "nbformat": 4,
  "nbformat_minor": 0,
  "metadata": {
    "colab": {
      "name": "Multiple Linear Regression using Gradient Descent.ipynb",
      "provenance": [],
      "authorship_tag": "ABX9TyMpWOAghVdxTKf3DgfBsIhM",
      "include_colab_link": true
    },
    "kernelspec": {
      "name": "python3",
      "display_name": "Python 3"
    }
  },
  "cells": [
    {
      "cell_type": "markdown",
      "metadata": {
        "id": "view-in-github",
        "colab_type": "text"
      },
      "source": [
        "<a href=\"https://colab.research.google.com/github/Gauravhulmukh/All_ml_algorithm_from_scratch/blob/master/Linear%20Regression/Multiple_Linear_Regression_using_Gradient_Descent.ipynb\" target=\"_parent\"><img src=\"https://colab.research.google.com/assets/colab-badge.svg\" alt=\"Open In Colab\"/></a>"
      ]
    },
    {
      "cell_type": "markdown",
      "metadata": {
        "id": "Gz_X1bfWHXYG",
        "colab_type": "text"
      },
      "source": [
        "**Multiple Linear Regression using Gradient Descent**<br>\n",
        "It is same as Simple LR but input contain multiple variables.<br>\n",
        "**Algorithm** :\n",
        "1.   Prepare data (x_train,x_test,y_train,y_test)<br>\n",
        "2.   Define Hypothesis:<br> \n",
        "       **h(x) =theta0 + theta1 * X** &nbsp; or **= theta<sup>T</sup>X**\n",
        "3. Cost Function : J(theta0,theta1) formula mentioned in image\n",
        "4. Compute Gradients : Derivaties formula mentioned in image\n",
        "5. Gradient Descent : (x,y,iterations,learning_rate)<br>\n",
        "      Define cost_history Array<br>\n",
        "      Initialize random theta_coeff<br>\n",
        "      compute_gradients wrt theta_coeff<br>\n",
        "      Update theta_coeff<br>\n",
        "      Calculate new cost and Store<br>\n",
        "6.Prediction: Set value of learning_rate<br>\n",
        "  Define Bias variable<br>\n",
        "  Use Hypothesis with new_inputs<br>\n",
        "![alt text](http://mccormickml.com/assets/GradientDescent/GradientDescentOfMSETable.png)\n",
        "\n",
        "7. Calculate RMSE and R2_Score:<br>\n",
        "![alt text](https://github.com/Gauravhulmukh/programming-foundation-with-python-from-udacity/blob/master/rmser2score.PNG?raw=true)\n",
        "\n",
        "\n"
      ]
    },
    {
      "cell_type": "code",
      "metadata": {
        "id": "ykeI1x9tHNhl",
        "colab_type": "code",
        "colab": {}
      },
      "source": [
        "import numpy as np\n",
        "import pandas as pd\n",
        "import matplotlib.pyplot as plt\n",
        "%matplotlib inline"
      ],
      "execution_count": 0,
      "outputs": []
    },
    {
      "cell_type": "code",
      "metadata": {
        "id": "PAZ4w7NGINgb",
        "colab_type": "code",
        "colab": {}
      },
      "source": [
        "train_data = pd.read_csv('train_dataset.csv')\n",
        "test_data = pd.read_csv('test_dataset.csv')\n",
        "x= train_data[['a','b']].values\n",
        "y= train_data['y'].values\n",
        "x_test= test_data[['a','b']].values\n",
        "y_test= test_data['y'].values"
      ],
      "execution_count": 0,
      "outputs": []
    },
    {
      "cell_type": "code",
      "metadata": {
        "id": "MQAc1s3tIlJ4",
        "colab_type": "code",
        "colab": {}
      },
      "source": [
        "def hypothesis(theta_coeff,x):\n",
        "  '''\n",
        "  parameters:\n",
        "  theta_coeff (array)= coefficient of function (1 X num_of_theta_coeff)\n",
        "  x = input data/variables (num_of_samples X 1)\n",
        "\n",
        "  return:\n",
        "  predicted values for each example rows in inputs (1 X num_of_inputs)\n",
        "  '''\n",
        "  return x.dot(theta_coeff)"
      ],
      "execution_count": 0,
      "outputs": []
    },
    {
      "cell_type": "code",
      "metadata": {
        "id": "6woQCc0dIlwW",
        "colab_type": "code",
        "colab": {}
      },
      "source": [
        "def cost_function_mse(theta_coeff, x, y):\n",
        "  '''\n",
        "  parameters:\n",
        "  theta_coeff (array)= coefficient of function (1 X num_of_theta_coeff)\n",
        "  x = input data/variables (num_of_samples X 1)\n",
        "  y = input data/variables (num_of_samples X 1)\n",
        "\n",
        "  return:\n",
        "  Computes cost of using theta_coeff as coefficients for Linear Representation wrt to training data\n",
        "  '''\n",
        "  predicted_y = hypothesis(theta_coeff,x)\n",
        "  return np.sum((predicted_y - y)** 2) / (2*len(x))"
      ],
      "execution_count": 0,
      "outputs": []
    },
    {
      "cell_type": "code",
      "metadata": {
        "id": "_sKcdbWdIqSx",
        "colab_type": "code",
        "colab": {}
      },
      "source": [
        "def compute_gradients(theta_coeff, x, y):\n",
        "  '''\n",
        "  parameters:\n",
        "  theta_coeff (array)= coefficient of function (1 X num_of_theta_coeff)\n",
        "  x = input data/variables (num_of_samples X 1)\n",
        "  y = input data/variables (num_of_samples X 1)\n",
        "\n",
        "  return:\n",
        "  Array of computed gradients for each of the coefficients (1 x num_of_coefficients)\n",
        "  '''\n",
        "  predicted_y = hypothesis(theta_coeff,x)\n",
        "  coeff_gradients = np.sum((predicted_y - y) * x.T,axis=1) /(len(x))\n",
        "  return coeff_gradients"
      ],
      "execution_count": 0,
      "outputs": []
    },
    {
      "cell_type": "code",
      "metadata": {
        "id": "agtN6MzbIvmK",
        "colab_type": "code",
        "colab": {}
      },
      "source": [
        "def gradient_descent(x, y, iterations, learning_rate):\n",
        "  '''\n",
        "  parameters:\n",
        "  x = input data/variables (num_of_samples X 1)\n",
        "  y = input data/variables (num_of_samples X 1)\n",
        "  iterations(int) = number of iterations/epochs\n",
        "  learning_rate(int): alpha or learning rate which controls the descent \n",
        "\n",
        "  return:\n",
        "  Array of computed gradients for each of the coefficients (1 x num_of_coefficients)\n",
        "  '''\n",
        "  # Container to cost history as the descent progresses\n",
        "  cost_history = []\n",
        "  theta_coeff = np.array([0] * x.shape[1])\n",
        "  for iteration in range(iterations):\n",
        "        # Compute gradient wrt. old theta_coeff\n",
        "        coeff_gradients = compute_gradients(theta_coeff, x, y)\n",
        "        #update theta_coeff\n",
        "        theta_coeff = theta_coeff - (learning_rate * coeff_gradients)\n",
        "        #store the new cost\n",
        "        cost = cost_function_mse(theta_coeff, x, y)\n",
        "        cost_history.append(cost)\n",
        "  return theta_coeff, cost_history"
      ],
      "execution_count": 0,
      "outputs": []
    },
    {
      "cell_type": "code",
      "metadata": {
        "id": "rwRAghYVI4dh",
        "colab_type": "code",
        "colab": {}
      },
      "source": [
        "alpha = 0.0001 #learning_rate\n",
        "bias_variable = np.ones(len(x))#bias variables\n",
        "x_train = np.column_stack([bias_variable, x])"
      ],
      "execution_count": 0,
      "outputs": []
    },
    {
      "cell_type": "code",
      "metadata": {
        "id": "wSALcxLSJAI_",
        "colab_type": "code",
        "colab": {}
      },
      "source": [
        "best_theta_coeff, cost_history = gradient_descent(x_train, y, 25000, alpha)"
      ],
      "execution_count": 0,
      "outputs": []
    },
    {
      "cell_type": "code",
      "metadata": {
        "id": "ldbC2KeVJGNt",
        "colab_type": "code",
        "colab": {
          "base_uri": "https://localhost:8080/",
          "height": 282
        },
        "outputId": "96e52fec-b00f-46dc-c6ae-9f0e2c75d322"
      },
      "source": [
        "cost_history[-1]\n",
        "plt.plot(cost_history)"
      ],
      "execution_count": 12,
      "outputs": [
        {
          "output_type": "execute_result",
          "data": {
            "text/plain": [
              "[<matplotlib.lines.Line2D at 0x7fd2b234f550>]"
            ]
          },
          "metadata": {
            "tags": []
          },
          "execution_count": 12
        },
        {
          "output_type": "display_data",
          "data": {
            "image/png": "[encoded data removed]",
            "text/plain": [
              "<Figure size 432x288 with 1 Axes>"
            ]
          },
          "metadata": {
            "tags": [],
            "needs_background": "light"
          }
        }
      ]
    },
    {
      "cell_type": "code",
      "metadata": {
        "id": "r0KJOxefJNw6",
        "colab_type": "code",
        "colab": {}
      },
      "source": [
        "def get_predictions(theta_coeff, x_input):\n",
        "  bias_variable = np.ones(len(x_input))#bias variables\n",
        "  new_x_input = np.column_stack([bias_variable, x_input])# Plug input along with bias_variable\n",
        "  preds = hypothesis(theta_coeff, new_x_input)# Compute output values with new coefficients\n",
        "  return preds"
      ],
      "execution_count": 0,
      "outputs": []
    },
    {
      "cell_type": "code",
      "metadata": {
        "id": "d0XTTr21Js7v",
        "colab_type": "code",
        "colab": {}
      },
      "source": [
        "def rmse(y, y_pred):\n",
        "  rmse = np.sqrt(np.sum((y-y_pred)**2)/len(y))\n",
        "  return rmse"
      ],
      "execution_count": 0,
      "outputs": []
    },
    {
      "cell_type": "code",
      "metadata": {
        "id": "snJ42zz8JwL_",
        "colab_type": "code",
        "colab": {}
      },
      "source": [
        "def r2_score(y, y_pred):\n",
        "  mean_y =np.mean(y)\n",
        "  SE_line_variation = np.sum((y - y_pred)** 2) #Unexplained variation in y wrt -> fitted line\n",
        "  SE_total_variation = np.sum((y - mean_y)** 2) #Unexplained max possible variation in y wrt->Mean\n",
        "  return 1 - (SE_line_variation/SE_total_variation)"
      ],
      "execution_count": 0,
      "outputs": []
    },
    {
      "cell_type": "code",
      "metadata": {
        "id": "ERrxCHtrJzfs",
        "colab_type": "code",
        "colab": {}
      },
      "source": [
        "y_pred_train = get_predictions(best_theta_coeff, x)\n",
        "y_pred_test = get_predictions(best_theta_coeff, x_test)"
      ],
      "execution_count": 0,
      "outputs": []
    },
    {
      "cell_type": "code",
      "metadata": {
        "id": "1XcFyWJ4J2ED",
        "colab_type": "code",
        "colab": {
          "base_uri": "https://localhost:8080/",
          "height": 51
        },
        "outputId": "2d60426a-8044-48f9-cfe3-9083ec27b280"
      },
      "source": [
        "#Training set evaluation\n",
        "print(f\"RMSE= {rmse(y, y_pred_train)}\")\n",
        "print(f\"R2_score = {r2_score(y, y_pred_train)}\")"
      ],
      "execution_count": 17,
      "outputs": [
        {
          "output_type": "stream",
          "text": [
            "RMSE= 22.453806036297763\n",
            "R2_score = 0.9509160548529371\n"
          ],
          "name": "stdout"
        }
      ]
    },
    {
      "cell_type": "code",
      "metadata": {
        "id": "LDBcN9wEJ52X",
        "colab_type": "code",
        "colab": {
          "base_uri": "https://localhost:8080/",
          "height": 51
        },
        "outputId": "0d4fde4f-7799-4746-b799-daf3b1163b0c"
      },
      "source": [
        "#Testing set evaluation\n",
        "print(f\"RMSE= {rmse(test_data['y'].values, y_pred_test)}\")\n",
        "print(f\"R2_score = {r2_score(test_data['y'].values, y_pred_test)}\")"
      ],
      "execution_count": 18,
      "outputs": [
        {
          "output_type": "stream",
          "text": [
            "RMSE= 24.092565600210925\n",
            "R2_score = 0.948641853549524\n"
          ],
          "name": "stdout"
        }
      ]
    }
  ]
}