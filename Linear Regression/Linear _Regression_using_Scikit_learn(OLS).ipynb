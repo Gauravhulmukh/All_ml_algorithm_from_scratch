{
  "nbformat": 4,
  "nbformat_minor": 0,
  "metadata": {
    "colab": {
      "name": "LRSL.ipynb",
      "provenance": [],
      "collapsed_sections": [],
      "authorship_tag": "ABX9TyMXHz4hpuTIATFOPe6h0GGu"
    },
    "kernelspec": {
      "name": "python3",
      "display_name": "Python 3"
    }
  },
  "cells": [
    {
      "cell_type": "markdown",
      "metadata": {
        "id": "6mfCwWjnRn5R",
        "colab_type": "text"
      },
      "source": [
        "Simple Linear Regression using Ordinary Least Squares[OLS] with Sci-kit"
      ]
    },
    {
      "cell_type": "code",
      "metadata": {
        "id": "VJ19EohePsr8",
        "colab_type": "code",
        "colab": {}
      },
      "source": [
        "import numpy as np\n",
        "import pandas as pd\n",
        "import matplotlib.pyplot as plt\n",
        "%matplotlib inline\n",
        "from sklearn.linear_model import LinearRegression\n",
        "from sklearn.metrics import mean_squared_error"
      ],
      "execution_count": 0,
      "outputs": []
    },
    {
      "cell_type": "code",
      "metadata": {
        "id": "7E0U64v2Q0Gc",
        "colab_type": "code",
        "colab": {}
      },
      "source": [
        "train_data = pd.read_csv('train_dataset.csv')\n",
        "test_data = pd.read_csv('test_dataset.csv')"
      ],
      "execution_count": 0,
      "outputs": []
    },
    {
      "cell_type": "code",
      "metadata": {
        "id": "W74Ha8BvRcza",
        "colab_type": "code",
        "colab": {}
      },
      "source": [
        "train_data = train_data[['a', 'y']]\n",
        "test_data = test_data[['a', 'y']]\n",
        "x = train_data['a'].values\n",
        "y = train_data['y'].values\n",
        "x_test = test_data['a'].values\n",
        "y_test = test_data['y'].values"
      ],
      "execution_count": 0,
      "outputs": []
    },
    {
      "cell_type": "code",
      "metadata": {
        "id": "g8IccM7dtYJ0",
        "colab_type": "code",
        "colab": {}
      },
      "source": [
        "# Reshape input; Cannot use Rank 1 matrix in scikit learn \n",
        "x = x.reshape((-1, 1))\n",
        "x_test = x_test.reshape((-1, 1))"
      ],
      "execution_count": 0,
      "outputs": []
    },
    {
      "cell_type": "code",
      "metadata": {
        "id": "S-4cLBs_tmNH",
        "colab_type": "code",
        "colab": {
          "base_uri": "https://localhost:8080/",
          "height": 34
        },
        "outputId": "e20fa5eb-79f9-458b-d28c-60b5630aadf0"
      },
      "source": [
        "lr =LinearRegression()\n",
        "lr.fit(x,y)"
      ],
      "execution_count": 45,
      "outputs": [
        {
          "output_type": "execute_result",
          "data": {
            "text/plain": [
              "LinearRegression(copy_X=True, fit_intercept=True, n_jobs=None, normalize=False)"
            ]
          },
          "metadata": {
            "tags": []
          },
          "execution_count": 45
        }
      ]
    },
    {
      "cell_type": "markdown",
      "metadata": {
        "id": "KgpSyD5ZEQdF",
        "colab_type": "text"
      },
      "source": [
        "**Model Evaluation**"
      ]
    },
    {
      "cell_type": "code",
      "metadata": {
        "id": "-zdsj7NqrqrY",
        "colab_type": "code",
        "colab": {
          "base_uri": "https://localhost:8080/",
          "height": 68
        },
        "outputId": "cd36aaf8-3178-44fd-e3cd-d58c6ff453e6"
      },
      "source": [
        "#Training set evaluation\n",
        "print(\"Training-set Evaluation:\")\n",
        "y_pred_train = lr.predict(x)\n",
        "train_mse = mean_squared_error(y,y_pred_train)#MSE\n",
        "train_rmse = np.sqrt(train_mse)#RMSE\n",
        "train_r2score = lr.score(x,y)#R2 Score\n",
        "print(f\"RMSE = {train_rmse}\")\n",
        "print(f\"R2 Score = {train_r2score}\")"
      ],
      "execution_count": 46,
      "outputs": [
        {
          "output_type": "stream",
          "text": [
            "Training-set Evaluation:\n",
            "RMSE = 63.085834608693574\n",
            "R2 Score = 0.6125432469546614\n"
          ],
          "name": "stdout"
        }
      ]
    },
    {
      "cell_type": "code",
      "metadata": {
        "id": "mlSiFB0OFNeo",
        "colab_type": "code",
        "colab": {
          "base_uri": "https://localhost:8080/",
          "height": 68
        },
        "outputId": "9e399816-77a5-4ebc-838a-d400f38c65b7"
      },
      "source": [
        "#Testing set evaluation\n",
        "print(\"Training-set Evaluation:\")\n",
        "y_pred_test = lr.predict(x_test)\n",
        "test_mse = mean_squared_error(y_test,y_pred_test)#MSE\n",
        "test_rmse = np.sqrt(test_mse)#RMSE\n",
        "test_r2score = lr.score(x,y)#R2 Score\n",
        "print(f\"RMSE = {test_rmse}\")\n",
        "print(f\"R2 Score = {test_r2score}\")"
      ],
      "execution_count": 40,
      "outputs": [
        {
          "output_type": "stream",
          "text": [
            "Training-set Evaluation:\n",
            "RMSE = 61.291285023847955\n",
            "R2 Score = 0.6125432469546614\n"
          ],
          "name": "stdout"
        }
      ]
    },
    {
      "cell_type": "code",
      "metadata": {
        "id": "-Zie2lxpF3mR",
        "colab_type": "code",
        "colab": {}
      },
      "source": [
        ""
      ],
      "execution_count": 0,
      "outputs": []
    }
  ]
}