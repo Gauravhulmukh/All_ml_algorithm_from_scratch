{
  "nbformat": 4,
  "nbformat_minor": 0,
  "metadata": {
    "colab": {
      "name": " Binomial Logistic Regression using Gradient Descent (Scikit).ipynb",
      "provenance": [],
      "authorship_tag": "ABX9TyMEnVKQGyj/hXPlNQl7U6Wf",
      "include_colab_link": true
    },
    "kernelspec": {
      "name": "python3",
      "display_name": "Python 3"
    }
  },
  "cells": [
    {
      "cell_type": "markdown",
      "metadata": {
        "id": "view-in-github",
        "colab_type": "text"
      },
      "source": [
        "<a href=\"https://colab.research.google.com/github/Gauravhulmukh/All_ml_algorithm_from_scratch/blob/master/Logistic%20Regression/Binomial_Logistic_Regression_using_Gradient_Descent_(Scikit).ipynb\" target=\"_parent\"><img src=\"https://colab.research.google.com/assets/colab-badge.svg\" alt=\"Open In Colab\"/></a>"
      ]
    },
    {
      "cell_type": "markdown",
      "metadata": {
        "id": "IerIY3p43rka",
        "colab_type": "text"
      },
      "source": [
        "**Binomial Logistic Regression using Gradient Descent (Scikit)**<br>\n",
        "**Introduction**<br>\n",
        "\n",
        "A hypothesis h(x), takes an input and gives us the estimated output value.<br>\n",
        "This hypothesis can be a as simple as a one variable linear equation, .. up to a very complicated and long multivariate equation with respect to the type of the algorithm we’re using (i.e. linear regression, logistic regression..etc).<br>\n",
        "\n",
        "Our task is to find the ***Best Parameters*** (a.k.a Thetas or Weights) that give us the ***least error*** in predicting the output. We call this error a ***Cost or Loss Function*** and apparently our goal is to ***minimize*** it in order to get the best predicted output!<br>\n",
        "\n",
        "One more thing to recall, that the relation between the parameter value and its effect on the cost function (i.e. the error) looks like a bell curve (i.e. Quadratic; recall this because it’s very important) .<br>\n",
        "\n",
        "So if we start at any point in that curve and if we keep taking the derivative (i.e. tangent line) of each point we stop at, we will end up at what so called the ***Global Optima*** as shown in this image:<br>\n",
        "\n",
        "![alt text](https://github.com/Gauravhulmukh/programming-foundation-with-python-from-udacity/blob/master/best%20parameter.png?raw=true)\n",
        "<br>\n",
        "\n",
        "If we take the partial derivative at minimum cost point (i.e. global optima) we find the **slope** of the tangent line = 0 (then we know that we reached our target.<br>\n",
        "\n",
        "That’s valid only if we have Convex Cost Function, but if we don’t, we may end up stuck at what so called **Local Optima**; consider this non-convex function:<br>\n",
        "\n",
        "![alt text](https://github.com/Gauravhulmukh/programming-foundation-with-python-from-udacity/blob/master/minmax.png?raw=true)\n",
        "<br>\n",
        "\n",
        "Now you should have the intuition about the hack relationship between what we are doing and the terms: Deravative, Tangent Line, Cost Function, Hypothesis ..etc.<br>\n",
        "\n",
        "\n",
        "---\n",
        "\n",
        "\n",
        "**Background** <br>\n",
        "**Linear Approximation:**<br>\n",
        "\n",
        "Given a function, f(x), we can find its tangent at x=a. The equation of the tangent line L(x) is: L(x)=f(a)+f′(a)(x−a).<br>\n",
        "\n",
        "Take a look at the following graph of a function and its tangent line:<br>\n",
        "![tangent line](https://github.com/Gauravhulmukh/programming-foundation-with-python-from-udacity/blob/master/linear%20approximation.png?raw=true)<br>\n",
        "\n",
        "From this graph we can see that near x=a, the tangent line and the function have nearly the same graph. On occasion we will use the tangent line, L(x), as an approximation to the function, f(x), near x=a. In these cases we call the tangent line the linear approximation to the function at x=a.<br>\n",
        "\n",
        "**Quadratic Approximation:**<br>\n",
        "\n",
        "Same like linear approximation but this time we are dealing with a curve but we **cannot** find the point near to **0*** by using the tangent line.<br>\n",
        "\n",
        "Instead, we use a **parabola** (which is a curve where any point is at an equal distance from a fixed point or a fixed straight line), like this:<br>\n",
        "\n",
        "![quadratic function](https://github.com/Gauravhulmukh/programming-foundation-with-python-from-udacity/blob/master/quaratic%20approximation.png?raw=true)<br>\n",
        "\n",
        "And in order to fit a good parabola, both parabola and quadratic function should have same value, same first derivative, AND second derivative, ... the formula will be (just out of curiosity): Qa(x) = f(a) + f'(a)(x-a) + f''(a)(x-a)2/2\n",
        "\n",
        "Now we should be ready to do the comparison in details.\n",
        "\n",
        "---\n",
        "\n",
        "Comparison between the methods:<br>\n",
        "**1. Newton’s Method (newton-cg)**\n",
        "\n",
        "Recall the motivation for gradient descent step at x: we minimize the quadratic function (i.e. Cost Function).\n",
        "\n",
        "Newton’s method uses in a sense a **better** quadratic function minimisation. A better because it uses the quadratic approximation (i.e. first AND second partial derivatives).\n",
        "\n",
        "You can imagine it as a twisted Gradient Descent with The Hessian (The Hessian is a square matrix of second-order partial derivatives of order nxn).\n",
        "\n",
        "Moreover, the geometric interpretation of Newton's method is that at each iteration one approximates f(x) by a quadratic function around xn, and then takes a step towards the maximum/minimum of that quadratic function (in higher dimensions, this may also be a saddle point). Note that if f(x) happens to be a quadratic function, then the exact extremum is found in one step.\n",
        "\n",
        "**Drawbacks:**\n",
        "\n",
        "It’s computationally **expensive** because of The Hessian Matrix (i.e. second partial derivatives calculations).\n",
        "\n",
        "It attracts to **Saddle Points** which are common in multivariable optimization (i.e. a point its partial derivatives disagree over whether this input should be a maximum or a minimum point!).\n",
        "\n",
        "**2. Limited-memory Broyden–Fletcher–Goldfarb–Shanno Algorithm (lbfgs):**\n",
        "\n",
        "In a nutshell, it is analogue of the Newton’s Method but here the Hessian matrix is **approximated** using updates specified by gradient evaluations (or approximate gradient evaluations). In other words, using an estimation to the inverse Hessian matrix.\n",
        "\n",
        "The term Limited-memory simply means it stores only a few vectors that represent the approximation implicitly.\n",
        "\n",
        "If I dare say that when dataset is **small**, L-BFGS relatively performs the best compared to other methods especially it saves a lot of memory, however there are some “serious” drawbacks such that if it is unsafeguarded, it may not converge to anything.\n",
        "\n",
        "**3. A Library for Large Linear Classification (liblinear):**\n",
        "\n",
        "It’s a linear classification that supports logistic regression and linear support vector machines (A linear classifier achieves this by making a classification decision based on the value of a linear combination of the characteristics i.e feature value).\n",
        "\n",
        "The solver uses a coordinate descent (CD) algorithm that solves optimization problems by successively performing approximate minimization along coordinate directions or coordinate hyperplanes.\n",
        "\n",
        "LIBLINEAR is the winner of ICML 2008 large-scale learning challenge. It applies Automatic parameter selection (a.k.a L1 Regularization) and it’s recommended when you have high dimension dataset (recommended for solving large-scale classification problems)\n",
        "\n",
        "**Drawbacks:**\n",
        "\n",
        "It may get stuck at a non-stationary point (i.e. non-optima) if the level curves of a function are not smooth.\n",
        "\n",
        "Also cannot run in parallel.\n",
        "\n",
        "It cannot learn a true multinomial (multiclass) model; instead, the optimization problem is decomposed in a “one-vs-rest” fashion so separate binary classifiers are trained for all classes.\n",
        "\n",
        "Side note: According to Scikit Documentation: The “liblinear” solver is used by default for historical reasons.\n",
        "\n",
        "**4. Stochastic Average Gradient (sag):**\n",
        "\n",
        "SAG method optimizes the sum of a finite number of smooth convex functions. Like stochastic gradient (SG) methods, the SAG method's iteration cost is independent of the number of terms in the sum. However, by **incorporating a memory of previous gradient values the SAG method achieves a faster convergence rate** than black-box SG methods.\n",
        "\n",
        "It is **faster** than other solvers for large datasets, when both the number of samples and the number of features are large.\n",
        "\n",
        "**Drawbacks:**\n",
        "\n",
        "It only supports L2 penalization.\n",
        "\n",
        "Its memory cost of O(N), which can make it impractical for large N (because it remembers the most recently computed values for approx. all gradients).\n",
        "\n",
        "**5. SAGA:**\n",
        "\n",
        "The SAGA solver is a variant of SAG that also supports the non-smooth penalty=l1 option (i.e. L1 Regularization). This is therefore the solver of choice for **sparse** multinomial logistic regression and it’s also suitable **very Large** dataset.\n",
        "\n",
        "Side note: According to Scikit Documentation: The SAGA solver is often the best choice.\n",
        "\n"
      ]
    },
    {
      "cell_type": "code",
      "metadata": {
        "id": "ZfFFUhyS-x-a",
        "colab_type": "code",
        "colab": {}
      },
      "source": [
        "import numpy as np\n",
        "import pandas as pd\n",
        "from sklearn.linear_model import LogisticRegression\n",
        "from sklearn.metrics import accuracy_score"
      ],
      "execution_count": 0,
      "outputs": []
    },
    {
      "cell_type": "code",
      "metadata": {
        "id": "Fdy_sBOBAyww",
        "colab_type": "code",
        "colab": {}
      },
      "source": [
        "train_data = pd.read_csv('train_dataset.csv')\n",
        "test_data = pd.read_csv('test_dataset.csv')\n",
        "x_train = train_data[['x1','x2']].values\n",
        "y_train = train_data['y'].values\n",
        "x_test = test_data[['x1','x2']].values\n",
        "y_test = test_data['y'].values"
      ],
      "execution_count": 0,
      "outputs": []
    },
    {
      "cell_type": "code",
      "metadata": {
        "id": "DLH5i9wj_-pl",
        "colab_type": "code",
        "colab": {
          "base_uri": "https://localhost:8080/",
          "height": 102
        },
        "outputId": "c43b3ffe-e169-415c-b507-38769e5972e0"
      },
      "source": [
        "model = LogisticRegression(solver='lbfgs')\n",
        "model.fit(x_train,y_train)"
      ],
      "execution_count": 10,
      "outputs": [
        {
          "output_type": "execute_result",
          "data": {
            "text/plain": [
              "LogisticRegression(C=1.0, class_weight=None, dual=False, fit_intercept=True,\n",
              "                   intercept_scaling=1, l1_ratio=None, max_iter=100,\n",
              "                   multi_class='auto', n_jobs=None, penalty='l2',\n",
              "                   random_state=None, solver='lbfgs', tol=0.0001, verbose=0,\n",
              "                   warm_start=False)"
            ]
          },
          "metadata": {
            "tags": []
          },
          "execution_count": 10
        }
      ]
    },
    {
      "cell_type": "code",
      "metadata": {
        "id": "MPzcL1BYAPF7",
        "colab_type": "code",
        "colab": {
          "base_uri": "https://localhost:8080/",
          "height": 51
        },
        "outputId": "f2ef63d0-4726-47c6-b11b-5f02bc1a476d"
      },
      "source": [
        "train_preds = model.predict(x_train)\n",
        "test_preds = model.predict(x_test)\n",
        "train_acc = accuracy_score(y_train.flatten(), train_preds)\n",
        "test_acc = accuracy_score(y_test.flatten(), test_preds)\n",
        "print(f\"Training accuracy = {train_acc}\")\n",
        "print(f\"Testing accuracy = {test_acc}\")"
      ],
      "execution_count": 7,
      "outputs": [
        {
          "output_type": "stream",
          "text": [
            "Training accuracy = 1.0\n",
            "Testing accuracy = 1.0\n"
          ],
          "name": "stdout"
        }
      ]
    },
    {
      "cell_type": "markdown",
      "metadata": {
        "id": "25aCnWcB3Q-J",
        "colab_type": "text"
      },
      "source": [
        ""
      ]
    }
  ]
}