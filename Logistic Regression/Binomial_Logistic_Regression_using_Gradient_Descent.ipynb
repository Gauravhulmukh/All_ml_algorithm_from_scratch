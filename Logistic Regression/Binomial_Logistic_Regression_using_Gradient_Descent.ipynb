{
  "nbformat": 4,
  "nbformat_minor": 0,
  "metadata": {
    "colab": {
      "name": "Binomial Logistic Regression using Gradient Descent.ipynb",
      "provenance": [],
      "authorship_tag": "ABX9TyND/FWC3YT8jnj073h69uoA",
      "include_colab_link": true
    },
    "kernelspec": {
      "name": "python3",
      "display_name": "Python 3"
    }
  },
  "cells": [
    {
      "cell_type": "markdown",
      "metadata": {
        "id": "view-in-github",
        "colab_type": "text"
      },
      "source": [
        "<a href=\"https://colab.research.google.com/github/Gauravhulmukh/All_ml_algorithm_from_scratch/blob/master/Logistic%20Regression/Binomial_Logistic_Regression_using_Gradient_Descent.ipynb\" target=\"_parent\"><img src=\"https://colab.research.google.com/assets/colab-badge.svg\" alt=\"Open In Colab\"/></a>"
      ]
    },
    {
      "cell_type": "markdown",
      "metadata": {
        "id": "5vXr9gjBdcgu",
        "colab_type": "text"
      },
      "source": [
        "**Binomial Logistic Regression using Gradient Descent :**<br>\n",
        "In Linear Regression, the output is the weighted sum of inputs.<br> In Logistic Regression, we don’t output the weighted sum of inputs directly, but we pass it through a **Sigmoid** function that can map any real value between 0 and 1.<br>\n",
        "\n",
        "\n",
        "\n"
      ]
    },
    {
      "cell_type": "code",
      "metadata": {
        "id": "OubOUN1GczCQ",
        "colab_type": "code",
        "colab": {}
      },
      "source": [
        "import numpy as np\n",
        "import pandas as pd\n",
        "import matplotlib.pyplot as plt\n",
        "%matplotlib inline\n",
        "from sklearn.model_selection import train_test_split"
      ],
      "execution_count": 0,
      "outputs": []
    },
    {
      "cell_type": "code",
      "metadata": {
        "id": "5LRdhJdbv8Yp",
        "colab_type": "code",
        "colab": {}
      },
      "source": [
        "train_data = pd.read_csv('train_dataset.csv')\n",
        "test_data = pd.read_csv('test_dataset.csv')\n",
        "x_train = train_data[['x1','x2']].values\n",
        "y_train = train_data['y'].values\n",
        "x_test = test_data[['x1','x2']].values\n",
        "y_test = test_data['y'].values"
      ],
      "execution_count": 0,
      "outputs": []
    },
    {
      "cell_type": "code",
      "metadata": {
        "id": "yF0HpU7wxvw7",
        "colab_type": "code",
        "outputId": "d72f5453-71d2-4b1f-cc28-8895c5d0d136",
        "colab": {
          "base_uri": "https://localhost:8080/",
          "height": 34
        }
      },
      "source": [
        "x_train.shape,x_test.shape"
      ],
      "execution_count": 60,
      "outputs": [
        {
          "output_type": "execute_result",
          "data": {
            "text/plain": [
              "((80, 2), (20, 2))"
            ]
          },
          "metadata": {
            "tags": []
          },
          "execution_count": 60
        }
      ]
    },
    {
      "cell_type": "markdown",
      "metadata": {
        "id": "SvW36MUt1Ua3",
        "colab_type": "text"
      },
      "source": [
        "![alt text](https://github.com/Gauravhulmukh/programming-foundation-with-python-from-udacity/blob/master/normalization%20formula.png?raw=true)"
      ]
    },
    {
      "cell_type": "code",
      "metadata": {
        "id": "Jm080Yu0ymxV",
        "colab_type": "code",
        "colab": {}
      },
      "source": [
        "def normalize(x): #Normalize\n",
        "  x_min = np.min(x,axis=0)\n",
        "  x_max = np.max(x,axis=0)\n",
        "  x_minmax_range = x_max - x_min\n",
        "  norm_x = np.divide((x-x_min),x_minmax_range)\n",
        "  return norm_x"
      ],
      "execution_count": 0,
      "outputs": []
    },
    {
      "cell_type": "markdown",
      "metadata": {
        "id": "WZtgqXHw1e9T",
        "colab_type": "text"
      },
      "source": [
        "Z-score is one of the most popular methods to standardize data, and can be done by subtracting the mean and dividing by the standard deviation for each value of each feature.\n",
        "\n",
        "![alt text](https://github.com/Gauravhulmukh/programming-foundation-with-python-from-udacity/blob/master/standardize%20input.png?raw=true)"
      ]
    },
    {
      "cell_type": "code",
      "metadata": {
        "id": "pqbAQ8lQDXJC",
        "colab_type": "code",
        "colab": {}
      },
      "source": [
        "def standardized(x): # Standardized with mean 0 and std-dev of 1, also called z-score \n",
        "  x_mean = np.mean(x,axis=0)\n",
        "  x_std = np.std(x,axis=0)\n",
        "  stdz_x = np.divide((x-x_mean),x_std)  \n",
        "  return stdz_x"
      ],
      "execution_count": 0,
      "outputs": []
    },
    {
      "cell_type": "code",
      "metadata": {
        "id": "mb_mJFSxGc72",
        "colab_type": "code",
        "colab": {}
      },
      "source": [
        "# Rescaled and standardized input\n",
        "x_train_rescaled = normalize(x_train)\n",
        "x_train_standardized = standardized(x_train)"
      ],
      "execution_count": 0,
      "outputs": []
    },
    {
      "cell_type": "code",
      "metadata": {
        "id": "f-z1QefpG3M-",
        "colab_type": "code",
        "colab": {
          "base_uri": "https://localhost:8080/",
          "height": 281
        },
        "outputId": "a62db3a9-e89b-48ea-9c20-bc9fceeb3603"
      },
      "source": [
        "def plot_2d(x, y, title, ax=None):\n",
        "    x_1 = x[np.where(y == 1)]\n",
        "    x_0 = x[np.where(y == 0)]\n",
        "    if ax == None:\n",
        "        fig = plt.figure()\n",
        "        ax = plt.axes()\n",
        "    ax.scatter(x_1[:, 0], x_1[:, 1], s=10) # y = 1 # blue\n",
        "    ax.scatter(x_0[:, 0], x_0[:, 1], s=10) # y = 0 # orange\n",
        "    ax.set_title(title)\n",
        "#plt.show()\n",
        "plot_2d(x_train, y_train, \"Non-Normalized\")"
      ],
      "execution_count": 38,
      "outputs": [
        {
          "output_type": "display_data",
          "data": {
            "image/png": "[encoded data removed]",
            "text/plain": [
              "<Figure size 432x288 with 1 Axes>"
            ]
          },
          "metadata": {
            "tags": [],
            "needs_background": "light"
          }
        }
      ]
    },
    {
      "cell_type": "code",
      "metadata": {
        "id": "PRqE-oIJIP3v",
        "colab_type": "code",
        "colab": {
          "base_uri": "https://localhost:8080/",
          "height": 311
        },
        "outputId": "7651a509-44a0-436c-ab7f-82e75d7e410f"
      },
      "source": [
        "def plot_norm_input(x_train_rescaled, x_train_standardized):\n",
        "    fig2 = plt.figure(figsize=(15, 10))\n",
        "    ax1 = fig2.add_subplot(221)\n",
        "    ax2 = fig2.add_subplot(222)\n",
        "    plot_2d(x_train_rescaled, y_train, 'Rescaled', ax1)\n",
        "    plot_2d(x_train_standardized, y_train, 'Standardized', ax2)\n",
        "plot_norm_input(x_train_rescaled, x_train_standardized)"
      ],
      "execution_count": 39,
      "outputs": [
        {
          "output_type": "display_data",
          "data": {
            "image/png": "[encoded data removed]",
            "text/plain": [
              "<Figure size 1080x720 with 2 Axes>"
            ]
          },
          "metadata": {
            "tags": [],
            "needs_background": "light"
          }
        }
      ]
    },
    {
      "cell_type": "markdown",
      "metadata": {
        "id": "CM3KC3JS1p35",
        "colab_type": "text"
      },
      "source": [
        "**Formula for Hypothesis and Sigmoid:**<br>\n",
        "![alt text](https://github.com/Gauravhulmukh/programming-foundation-with-python-from-udacity/blob/master/lr%20hypo%20and%20sigmoid.png?raw=true)"
      ]
    },
    {
      "cell_type": "code",
      "metadata": {
        "id": "R7hfejjk_wGs",
        "colab_type": "code",
        "colab": {}
      },
      "source": [
        "def net_input(theta_coeff,x):\n",
        "  #Weighted sum of inputs\n",
        "  return x.dot(theta_coeff)"
      ],
      "execution_count": 0,
      "outputs": []
    },
    {
      "cell_type": "code",
      "metadata": {
        "id": "wY5fH1chA1d6",
        "colab_type": "code",
        "colab": {}
      },
      "source": [
        "def sigmoid(x):\n",
        "  #Activation function used to map input between 0 and 1\n",
        "  return np.divide(1,(1 + np.exp(-x)))"
      ],
      "execution_count": 0,
      "outputs": []
    },
    {
      "cell_type": "code",
      "metadata": {
        "id": "XSIVHxt1GE6W",
        "colab_type": "code",
        "colab": {}
      },
      "source": [
        "def probability(theta_coeff,x):\n",
        "  #Returns the probability of each of the weighted inputs wrt to sigmoidal function\n",
        "  return sigmoid(net_input(theta_coeff,x))"
      ],
      "execution_count": 0,
      "outputs": []
    },
    {
      "cell_type": "markdown",
      "metadata": {
        "id": "jvpartfh1W8I",
        "colab_type": "text"
      },
      "source": [
        "**Formula for Cost Function:**<br>\n",
        "![alt text](https://github.com/Gauravhulmukh/programming-foundation-with-python-from-udacity/blob/master/logistisc%20regression%20cost%20function.png?raw=true)"
      ]
    },
    {
      "cell_type": "code",
      "metadata": {
        "id": "fjToXRDgo6e1",
        "colab_type": "code",
        "colab": {}
      },
      "source": [
        "def cost_function(theta_coeff,x,y):\n",
        "  # Computes the cost/error of using theta_coeff as coefficients wrt to training data\n",
        "  return -(1/x.shape[0]) * np.sum((y * np.log(probability(theta_coeff,x))) + ((1-y) * np.log(1-probability(theta_coeff,x))))"
      ],
      "execution_count": 0,
      "outputs": []
    },
    {
      "cell_type": "code",
      "metadata": {
        "id": "lKtOfZfIqbfC",
        "colab_type": "code",
        "colab": {}
      },
      "source": [
        "def compute_gradient(theta_coeff,x,y):\n",
        "  return (1/x.shape[0]) * np.dot(x.T, (probability(theta_coeff, x) - y))"
      ],
      "execution_count": 0,
      "outputs": []
    },
    {
      "cell_type": "code",
      "metadata": {
        "id": "XnCLp4sxrJfq",
        "colab_type": "code",
        "colab": {}
      },
      "source": [
        "def gradient_descent(x,y,iterations,learning_rate):\n",
        "  '''\n",
        "  Input:\n",
        "  x= input data/variables\n",
        "  y= output data/variables\n",
        "  iterations = No.of Epochs/Steps.\n",
        "  learning rate =  configurable hyperparameter used to obtain smallest positive value.\n",
        "\n",
        "  Ouput:\n",
        "  theta_coeff(array) = Best set of coefficients for linear model\n",
        "  cost_history(array) = cost history wrt coefficient while performing descent.\n",
        "  '''\n",
        "  # Container to store cost history as the descent progresses\n",
        "  cost_history = []\n",
        "    \n",
        "  # Initialize coefficients with random values\n",
        "  theta_coeff = np.array([0] * x.shape[1])\n",
        "  print(theta_coeff)\n",
        "  for iteration in range(iterations):\n",
        "    gradients = compute_gradient(theta_coeff,x,y)\n",
        "    theta_coeff = theta_coeff - (learning_rate * gradients)\n",
        "    cost = cost_function(theta_coeff,x,y)\n",
        "    cost_history.append(cost) # Store the new cost\n",
        "  return theta_coeff, cost_history"
      ],
      "execution_count": 0,
      "outputs": []
    },
    {
      "cell_type": "code",
      "metadata": {
        "id": "plV9ZIOFr7SW",
        "colab_type": "code",
        "colab": {}
      },
      "source": [
        "alpha = 0.001\n",
        "bias_variable = np.ones(len(x_train))\n",
        "x_train_biased = np.column_stack([bias_variable, x_train])"
      ],
      "execution_count": 0,
      "outputs": []
    },
    {
      "cell_type": "code",
      "metadata": {
        "id": "g3J7K3M_waET",
        "colab_type": "code",
        "colab": {
          "base_uri": "https://localhost:8080/",
          "height": 34
        },
        "outputId": "ac1fd5d9-581d-4265-d6fd-33a8ea5ea6c9"
      },
      "source": [
        "best_theta_coeff, cost_history = gradient_descent(x_train_biased, y_train, 100000, alpha)"
      ],
      "execution_count": 68,
      "outputs": [
        {
          "output_type": "stream",
          "text": [
            "[0 0 0]\n"
          ],
          "name": "stdout"
        }
      ]
    },
    {
      "cell_type": "code",
      "metadata": {
        "id": "JAy2JmpTwahw",
        "colab_type": "code",
        "colab": {
          "base_uri": "https://localhost:8080/",
          "height": 282
        },
        "outputId": "f9952570-3222-43d8-9b50-86cb33a86339"
      },
      "source": [
        "plt.plot(cost_history)"
      ],
      "execution_count": 69,
      "outputs": [
        {
          "output_type": "execute_result",
          "data": {
            "text/plain": [
              "[<matplotlib.lines.Line2D at 0x7f7df8e67a90>]"
            ]
          },
          "metadata": {
            "tags": []
          },
          "execution_count": 69
        },
        {
          "output_type": "display_data",
          "data": {
            "image/png": "[encoded data removed]",
            "text/plain": [
              "<Figure size 432x288 with 1 Axes>"
            ]
          },
          "metadata": {
            "tags": [],
            "needs_background": "light"
          }
        }
      ]
    },
    {
      "cell_type": "code",
      "metadata": {
        "id": "t7TNZGtww0Bm",
        "colab_type": "code",
        "colab": {}
      },
      "source": [
        "def get_predictions(theta_coeff,x_input):\n",
        "  bias_variable = np.ones(len(x_input))\n",
        "  new_x_input = np.column_stack([bias_variable,x_input])\n",
        "  preds = probability(theta_coeff,new_x_input)\n",
        "  return preds"
      ],
      "execution_count": 0,
      "outputs": []
    },
    {
      "cell_type": "code",
      "metadata": {
        "id": "TieX7j3xyv-T",
        "colab_type": "code",
        "colab": {}
      },
      "source": [
        "def accuracy(theta_coeff,x,y,threshold = 0.5):\n",
        "  class_preds = (get_predictions(theta_coeff,x) >= 0.5).astype(int).flatten()\n",
        "  accuracy = np.mean(class_preds == y) * 100\n",
        "  return accuracy"
      ],
      "execution_count": 0,
      "outputs": []
    },
    {
      "cell_type": "code",
      "metadata": {
        "id": "ZzGWBxDQzxZc",
        "colab_type": "code",
        "colab": {}
      },
      "source": [
        "y_pred_train = get_predictions(best_theta_coeff,x_train)\n",
        "y_pred_test = get_predictions(best_theta_coeff,x_test)"
      ],
      "execution_count": 0,
      "outputs": []
    },
    {
      "cell_type": "code",
      "metadata": {
        "id": "cm4yU2C_0Cvr",
        "colab_type": "code",
        "colab": {}
      },
      "source": [
        "train_acc = accuracy(best_theta_coeff, x_train, y_train)\n",
        "test_acc = accuracy(best_theta_coeff, x_test, y_test)"
      ],
      "execution_count": 0,
      "outputs": []
    },
    {
      "cell_type": "code",
      "metadata": {
        "id": "9p-PPixF0TYN",
        "colab_type": "code",
        "colab": {
          "base_uri": "https://localhost:8080/",
          "height": 51
        },
        "outputId": "0ad74dca-401a-471b-8ed6-b526a9ad0955"
      },
      "source": [
        "print(f\"Training accuracy = {train_acc}\")\n",
        "print(f\"Testing accuracy = {test_acc}\")"
      ],
      "execution_count": 81,
      "outputs": [
        {
          "output_type": "stream",
          "text": [
            "Training accuracy = 100.0\n",
            "Testing accuracy = 100.0\n"
          ],
          "name": "stdout"
        }
      ]
    }
  ]
}