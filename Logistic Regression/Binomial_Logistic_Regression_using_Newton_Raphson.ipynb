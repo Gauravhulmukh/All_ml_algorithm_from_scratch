{
  "nbformat": 4,
  "nbformat_minor": 0,
  "metadata": {
    "colab": {
      "name": "Binomial Logistic Regression using Newton Raphson.ipynb",
      "provenance": [],
      "authorship_tag": "ABX9TyPnccK6nxIMNIb2+oI177bi",
      "include_colab_link": true
    },
    "kernelspec": {
      "name": "python3",
      "display_name": "Python 3"
    }
  },
  "cells": [
    {
      "cell_type": "markdown",
      "metadata": {
        "id": "view-in-github",
        "colab_type": "text"
      },
      "source": [
        "<a href=\"https://colab.research.google.com/github/Gauravhulmukh/Machine_Learning_algorithms_from_scratch/blob/master/Logistic%20Regression/Binomial_Logistic_Regression_using_Newton_Raphson.ipynb\" target=\"_parent\"><img src=\"https://colab.research.google.com/assets/colab-badge.svg\" alt=\"Open In Colab\"/></a>"
      ]
    },
    {
      "cell_type": "code",
      "metadata": {
        "id": "ZZ931DCM1m0_",
        "colab_type": "code",
        "colab": {}
      },
      "source": [
        "import numpy as np\n",
        "import pandas as pd\n",
        "import matplotlib.pyplot as plt\n",
        "from sklearn.model_selection import train_test_split"
      ],
      "execution_count": 0,
      "outputs": []
    },
    {
      "cell_type": "code",
      "metadata": {
        "id": "UYMN1Y4U2RoR",
        "colab_type": "code",
        "colab": {}
      },
      "source": [
        "def compute_log_likelihood(y,est_prob):\n",
        "  logit = ((y*est_prob) + ((1-y)*(1-est_prob)))\n",
        "  return np.prod(np.where(logit != 0, logit, 1))"
      ],
      "execution_count": 0,
      "outputs": []
    },
    {
      "cell_type": "code",
      "metadata": {
        "id": "0a-BpzDk3ISq",
        "colab_type": "code",
        "colab": {}
      },
      "source": [
        "def net_input(beta, x):\n",
        "    # compute the weighted sum of inputs\n",
        "    return x.dot(beta)"
      ],
      "execution_count": 0,
      "outputs": []
    },
    {
      "cell_type": "code",
      "metadata": {
        "id": "vZ2E-QrL3KPQ",
        "colab_type": "code",
        "colab": {}
      },
      "source": [
        "def log_odds_to_prob(x): \n",
        "    # Conversion from log(odds) to probability\n",
        "    return np.divide(np.exp(x), (1 + np.exp(x)))"
      ],
      "execution_count": 0,
      "outputs": []
    },
    {
      "cell_type": "code",
      "metadata": {
        "id": "zIGNHS8e3QBU",
        "colab_type": "code",
        "colab": {}
      },
      "source": [
        "def compute_probabilities(beta,x):\n",
        "  return log_odds_to_prob(net_input(beta,x))"
      ],
      "execution_count": 0,
      "outputs": []
    },
    {
      "cell_type": "code",
      "metadata": {
        "id": "rr9BlS9B3iXK",
        "colab_type": "code",
        "colab": {}
      },
      "source": [
        "def logistic(x_unbiased, y, learningrate, dif):\n",
        "    # Bias variable \n",
        "    bias_variable = np.ones(len(x_unbiased))\n",
        "    # Plug input along with bias_variable\n",
        "    x = np.column_stack([bias_variable, x_unbiased])\n",
        "    # Initialize parameterss/coefficients\n",
        "    beta = np.array([0] * x.shape[1])\n",
        "    # Container to store log likelihoods and derivatives\n",
        "    log_likelihoods = []\n",
        "    derivatives = []\n",
        "    diff = 10000 # Any high value\n",
        "    while (diff > dif):\n",
        "        est_probs = compute_probabilities(beta, x) # Predict with new value of beta\n",
        "        W_matrix = np.diag((est_probs) * (1-est_probs)) # A sparse diagonal matrix\n",
        "        # Assume x_new to have dimensions (n x f), whereas y, pi to have dimensions (n x 1)\n",
        "        # solve(t(x_new)%*%W : factor in pi with x_new (x_new.T * (identity_matrix * (pi[i]*(1-pi[i]))) : outputs (f x n)\n",
        "        # (solve(t(x_new)%*%W%*%as.matrix(x_new))): factor in each feature of our computed matrix(x_new factored with estimated probability) with each feature of orginal input matrix : outputs (f x f)\n",
        "        # (t(x_new)%*%(y - pi)) : Factor in error with each of the feature column with respect to each example : outputs (f x 1)\n",
        "        derivative = np.dot(np.linalg.inv(np.dot(np.dot(x.T, W_matrix), x)), np.dot(x.T, (y - est_probs))) # This computation is equivalent to computing derivative w.r.t to each feature, more about (residuals x feature level transformation)\n",
        "        beta = beta + derivative # We add, because we are doing gradient ascent(to maximize the likelihood)\n",
        "        diff = np.sum(derivative.flatten()**2)\n",
        "        log_likelihood = compute_log_likelihood(y, est_probs)\n",
        "        # Append Log likelihood and derivative into the respective container\n",
        "        log_likelihoods.append(log_likelihood)\n",
        "        derivatives.append(derivative)\n",
        "    return beta, log_likelihoods, derivatives"
      ],
      "execution_count": 0,
      "outputs": []
    },
    {
      "cell_type": "code",
      "metadata": {
        "id": "YhKHMxOW3xvR",
        "colab_type": "code",
        "colab": {}
      },
      "source": [
        "x = np.arange(1, 11)\n",
        "y = np.array([0, 0, 0, 0, 1, 0, 1, 0, 1, 1])"
      ],
      "execution_count": 0,
      "outputs": []
    },
    {
      "cell_type": "code",
      "metadata": {
        "id": "3fACF5ly3zxu",
        "colab_type": "code",
        "colab": {
          "base_uri": "https://localhost:8080/",
          "height": 34
        },
        "outputId": "1aed1b9e-c68d-4946-c2a2-0faebf7e0a65"
      },
      "source": [
        "x.shape, y.shape"
      ],
      "execution_count": 13,
      "outputs": [
        {
          "output_type": "execute_result",
          "data": {
            "text/plain": [
              "((10,), (10,))"
            ]
          },
          "metadata": {
            "tags": []
          },
          "execution_count": 13
        }
      ]
    },
    {
      "cell_type": "code",
      "metadata": {
        "id": "ZsWl3dNP6DrN",
        "colab_type": "code",
        "colab": {}
      },
      "source": [
        "beta, log_likelihoods, derivatives = logistic(x, y, 0.01, 0.000000001)"
      ],
      "execution_count": 0,
      "outputs": []
    },
    {
      "cell_type": "code",
      "metadata": {
        "id": "DetR2RYd6NqW",
        "colab_type": "code",
        "colab": {
          "base_uri": "https://localhost:8080/",
          "height": 34
        },
        "outputId": "d7e72fc8-31ca-42db-a595-8245af835486"
      },
      "source": [
        "log_likelihoods[-1]"
      ],
      "execution_count": 15,
      "outputs": [
        {
          "output_type": "execute_result",
          "data": {
            "text/plain": [
              "0.013431911499350552"
            ]
          },
          "metadata": {
            "tags": []
          },
          "execution_count": 15
        }
      ]
    },
    {
      "cell_type": "code",
      "metadata": {
        "id": "BNI9b7mF6QJe",
        "colab_type": "code",
        "colab": {
          "base_uri": "https://localhost:8080/",
          "height": 285
        },
        "outputId": "cb0662a7-8ebe-4c70-ccc3-d3765a8cee51"
      },
      "source": [
        "plt.plot(log_likelihoods)"
      ],
      "execution_count": 16,
      "outputs": [
        {
          "output_type": "execute_result",
          "data": {
            "text/plain": [
              "[<matplotlib.lines.Line2D at 0x7f4bdce8fef0>]"
            ]
          },
          "metadata": {
            "tags": []
          },
          "execution_count": 16
        },
        {
          "output_type": "display_data",
          "data": {
            "image/png": "[encoded data removed]",
            "text/plain": [
              "<Figure size 432x288 with 1 Axes>"
            ]
          },
          "metadata": {
            "tags": [],
            "needs_background": "light"
          }
        }
      ]
    },
    {
      "cell_type": "code",
      "metadata": {
        "id": "EbijUzqH6T6T",
        "colab_type": "code",
        "colab": {}
      },
      "source": [
        ""
      ],
      "execution_count": 0,
      "outputs": []
    }
  ]
}